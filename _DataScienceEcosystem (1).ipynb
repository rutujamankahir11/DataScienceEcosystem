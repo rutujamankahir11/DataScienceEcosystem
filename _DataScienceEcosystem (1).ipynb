{
 "cells": [
  {
   "cell_type": "markdown",
   "id": "88174cda-2009-4e38-a775-8948e7e766f2",
   "metadata": {},
   "source": [
    "\n",
    "Exercise 2: Create markdown cell with title of the notebook"
   ]
  },
  {
   "cell_type": "markdown",
   "id": "f09316f4-a3dd-4099-9927-a6879e5fb65e",
   "metadata": {},
   "source": [
    "# Data Science Tools and Ecosystem"
   ]
  },
  {
   "cell_type": "markdown",
   "id": "a8989605-c6d9-4cda-a100-bfe027b9c79c",
   "metadata": {},
   "source": [
    "Exercise 3 - Create a markdown cell for an introduction"
   ]
  },
  {
   "cell_type": "markdown",
   "id": "ff31f0c8-d9c8-4731-b110-83a048077bbf",
   "metadata": {},
   "source": [
    "In this notebook, Data Science Tools and Ecosystem are summarized."
   ]
  },
  {
   "cell_type": "markdown",
   "id": "e0d54273-4dbd-49e8-afef-6ab14e19a52d",
   "metadata": {},
   "source": [
    "Exercise 4 - Create a markdown cell to list data science languages"
   ]
  },
  {
   "cell_type": "markdown",
   "id": "11965e99-99f4-475b-b174-212f8a5185f1",
   "metadata": {},
   "source": [
    "Some of the popular languages that Data Scientists use are:\n",
    "1. R language\n",
    "2. python\n",
    "3. ruby\n",
    "4. julia\n"
   ]
  },
  {
   "cell_type": "markdown",
   "id": "05377ca2-858b-4577-a533-638843053fd7",
   "metadata": {},
   "source": [
    "Exercise 10 - Insert a markdown cell to list Objectives"
   ]
  },
  {
   "cell_type": "markdown",
   "id": "e8111fb6-c7d9-4705-aeb5-1fe08c6a81a3",
   "metadata": {},
   "source": [
    "**Objectives:**\n",
    "List popular languages for Data Science:\n",
    "+ r lagnuage\n",
    "+ python\n",
    "+ ruby\n",
    "+ scala"
   ]
  },
  {
   "cell_type": "markdown",
   "id": "606bacea-62cd-48e5-897b-d3b94385cf3a",
   "metadata": {},
   "source": [
    "Exercise 5 - Create a markdown cell to list data science libraries"
   ]
  },
  {
   "cell_type": "markdown",
   "id": "65bd89df-bdaf-474a-9e60-dc7e5c70bd4a",
   "metadata": {},
   "source": [
    "Some of the commonly used libraries used by Data Scientists include:\n",
    "1. pandas\n",
    "2. numpy\n",
    "3. dpylr\n"
   ]
  },
  {
   "cell_type": "markdown",
   "id": "ce824083-eec1-4373-a41f-c1d9f75b009e",
   "metadata": {},
   "source": [
    "exercise 6 - Create a markdown cell with a table of Data Science tools"
   ]
  },
  {
   "cell_type": "markdown",
   "id": "1c74840f-a68b-467b-b1fa-a6c22e58aea8",
   "metadata": {},
   "source": [
    "| data science tools |\n",
    "|--------------------|\n",
    "| Jupyter lab        |\n",
    "| Mysql              |\n",
    "| MongoDB            |"
   ]
  },
  {
   "cell_type": "markdown",
   "id": "537031b4-8725-4ef4-a446-237dcc3ab2aa",
   "metadata": {},
   "source": [
    "Exercise 7 - Create a markdown cell introducing arithmetic expression examples"
   ]
  },
  {
   "cell_type": "markdown",
   "id": "aacec88c-325c-4a64-b2a2-de3cc773966a",
   "metadata": {},
   "source": [
    "### Below are a few examples of evaluating arithmetic expressions in Python"
   ]
  },
  {
   "cell_type": "markdown",
   "id": "cf7de267-241c-4ef5-a91f-edeebc063a63",
   "metadata": {},
   "source": [
    "Exercise 8 - Create a code cell to multiply and add numbers"
   ]
  },
  {
   "cell_type": "code",
   "execution_count": 6,
   "id": "1aeca718-152f-4177-80b1-230676faa647",
   "metadata": {},
   "outputs": [
    {
     "data": {
      "text/plain": [
       "17"
      ]
     },
     "execution_count": 6,
     "metadata": {},
     "output_type": "execute_result"
    }
   ],
   "source": [
    "# This a simple arithmetic expression to mutiply then add integers.\n",
    "(3*4)+5"
   ]
  },
  {
   "cell_type": "markdown",
   "id": "d5d91ec3-3d46-47cc-b2f7-db96fe956982",
   "metadata": {},
   "source": [
    "Exercise 9 - Create a code cell to convert minutes to hours"
   ]
  },
  {
   "cell_type": "code",
   "execution_count": 12,
   "id": "762c1141-1add-47f0-8f70-a3bfb728ede0",
   "metadata": {},
   "outputs": [
    {
     "name": "stdout",
     "output_type": "stream",
     "text": [
      "200 mins means  3.3333333333333335 hour\n"
     ]
    }
   ],
   "source": [
    "#This will convert 200 minutes to hours by diving by 60.\n",
    "min=200\n",
    "hour = float(min/60)\n",
    "print(\"200 mins means \",hour,\"hour\")"
   ]
  },
  {
   "cell_type": "markdown",
   "id": "33c24f84-8444-4e00-a17e-8a8704461550",
   "metadata": {},
   "source": [
    "\n",
    "Exercise 11 - Create a markdown cell to indicate the Author's name"
   ]
  },
  {
   "cell_type": "markdown",
   "id": "490f2751-94ca-4391-9fbe-d182cb5d1264",
   "metadata": {},
   "source": [
    "## author in h2 style heading \n",
    "   Rutuja Mankhair"
   ]
  }
 ],
 "metadata": {
  "kernelspec": {
   "display_name": "Python 3 (ipykernel)",
   "language": "python",
   "name": "python3"
  },
  "language_info": {
   "codemirror_mode": {
    "name": "ipython",
    "version": 3
   },
   "file_extension": ".py",
   "mimetype": "text/x-python",
   "name": "python",
   "nbconvert_exporter": "python",
   "pygments_lexer": "ipython3",
   "version": "3.13.5"
  }
 },
 "nbformat": 4,
 "nbformat_minor": 5
}
